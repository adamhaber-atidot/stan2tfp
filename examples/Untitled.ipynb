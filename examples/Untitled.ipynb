{
 "cells": [
  {
   "cell_type": "code",
   "execution_count": 21,
   "metadata": {},
   "outputs": [],
   "source": [
    "from stan2tfp import stan2tfp, sampling"
   ]
  },
  {
   "cell_type": "code",
   "execution_count": 22,
   "metadata": {},
   "outputs": [],
   "source": [
    "stan_code = \"\"\"\n",
    "data {\n",
    "  int<lower=0> J;\n",
    "  real y[J];\n",
    "  real<lower=0> sigma[J];\n",
    "}\n",
    "\n",
    "parameters {\n",
    "  real mu;\n",
    "  real<lower=0> tau;\n",
    "  vector[J] theta_tilde;\n",
    "}\n",
    "\n",
    "transformed parameters {\n",
    "  vector[J] theta = mu + tau * theta_tilde;\n",
    "}\n",
    "\n",
    "model {\n",
    "  mu ~ normal(0, 5);\n",
    "  tau ~ normal(0, 5);\n",
    "  theta_tilde ~ normal(0, 1);\n",
    "  y ~ normal(theta, sigma);\n",
    "}\n",
    "\"\"\""
   ]
  },
  {
   "cell_type": "code",
   "execution_count": 23,
   "metadata": {},
   "outputs": [],
   "source": [
    "data_dict = dict(J=8, y=[28, 8, -3, 7, -1, 1, 18, 12], sigma=[15, 10, 16, 11, 9, 11, 10, 18])"
   ]
  },
  {
   "cell_type": "code",
   "execution_count": null,
   "metadata": {},
   "outputs": [],
   "source": [
    "model = stan2tfp.get"
   ]
  },
  {
   "cell_type": "code",
   "execution_count": 15,
   "metadata": {},
   "outputs": [
    {
     "data": {
      "text/plain": [
       "'/var/folders/zz/ck0j19_d4336p_45trlj1bcr0000gp/T/tmp8fau7fei'"
      ]
     },
     "execution_count": 15,
     "metadata": {},
     "output_type": "execute_result"
    }
   ],
   "source": [
    "path"
   ]
  },
  {
   "cell_type": "code",
   "execution_count": 17,
   "metadata": {},
   "outputs": [
    {
     "name": "stdout",
     "output_type": "stream",
     "text": [
      "\r\n",
      "data {\r\n",
      "  int<lower=0> J;\r\n",
      "  real y[J];\r\n",
      "  real<lower=0> sigma[J];\r\n",
      "}\r\n",
      "\r\n",
      "parameters {\r\n",
      "  real mu;\r\n",
      "  real<lower=0> tau;\r\n",
      "  vector[J] theta_tilde;\r\n",
      "}\r\n",
      "\r\n",
      "transformed parameters {\r\n",
      "  vector[J] theta = mu + tau * theta_tilde;\r\n",
      "}\r\n",
      "\r\n",
      "model {\r\n",
      "  mu ~ normal(0, 5);\r\n",
      "  tau ~ normal(0, 5);\r\n",
      "  theta_tilde ~ normal(0, 1);\r\n",
      "  y ~ normal(theta, sigma);\r\n",
      "}\r\n"
     ]
    }
   ],
   "source": [
    "!cat /var/folders/zz/ck0j19_d4336p_45trlj1bcr0000gp/T/tmp8fau7fei"
   ]
  },
  {
   "cell_type": "code",
   "execution_count": 18,
   "metadata": {},
   "outputs": [],
   "source": [
    "import os"
   ]
  },
  {
   "cell_type": "code",
   "execution_count": 19,
   "metadata": {},
   "outputs": [],
   "source": [
    "os.unlink(path)"
   ]
  },
  {
   "cell_type": "code",
   "execution_count": null,
   "metadata": {},
   "outputs": [],
   "source": []
  },
  {
   "cell_type": "code",
   "execution_count": 21,
   "metadata": {},
   "outputs": [],
   "source": [
    "fd, path = tempfile.mkstemp(text=stan_code)"
   ]
  },
  {
   "cell_type": "code",
   "execution_count": 22,
   "metadata": {},
   "outputs": [
    {
     "name": "stdout",
     "output_type": "stream",
     "text": [
      "cat: fd: No such file or directory\r\n"
     ]
    }
   ],
   "source": [
    "with open(fd,\"r\") as f:\n",
    "    !cat fd\n",
    "    model = stan2tfp.get_model_from_path(path, data_dict)"
   ]
  },
  {
   "cell_type": "code",
   "execution_count": null,
   "metadata": {},
   "outputs": [],
   "source": []
  },
  {
   "cell_type": "code",
   "execution_count": 11,
   "metadata": {},
   "outputs": [
    {
     "data": {
      "text/plain": [
       "'/var/folders/zz/ck0j19_d4336p_45trlj1bcr0000gp/T/tmpo7wuq6la'"
      ]
     },
     "execution_count": 11,
     "metadata": {},
     "output_type": "execute_result"
    }
   ],
   "source": [
    "path"
   ]
  },
  {
   "cell_type": "code",
   "execution_count": 7,
   "metadata": {},
   "outputs": [
    {
     "ename": "SyntaxError",
     "evalue": "invalid syntax (<string>, line 2)",
     "output_type": "error",
     "traceback": [
      "Traceback \u001b[0;36m(most recent call last)\u001b[0m:\n",
      "  File \u001b[1;32m\"/Users/adamhaber/.local/lib/python3.6/site-packages/IPython/core/interactiveshell.py\"\u001b[0m, line \u001b[1;32m3326\u001b[0m, in \u001b[1;35mrun_code\u001b[0m\n    exec(code_obj, self.user_global_ns, self.user_ns)\n",
      "  File \u001b[1;32m\"<ipython-input-7-b00af16aaef4>\"\u001b[0m, line \u001b[1;32m1\u001b[0m, in \u001b[1;35m<module>\u001b[0m\n    model = stan2tfp.get_model_from_code(stan_code, data_dict)\n",
      "  File \u001b[1;32m\"/Users/adamhaber/miniconda3/envs/tf-nightly/lib/python3.6/site-packages/stan2tfp/stan2tfp.py\"\u001b[0m, line \u001b[1;32m29\u001b[0m, in \u001b[1;35mget_model_from_code\u001b[0m\n    model_obj = get_model_obj(tfp_code)\n",
      "\u001b[0;36m  File \u001b[0;32m\"/Users/adamhaber/miniconda3/envs/tf-nightly/lib/python3.6/site-packages/stan2tfp/stan2tfp.py\"\u001b[0;36m, line \u001b[0;32m22\u001b[0;36m, in \u001b[0;35mget_model_obj\u001b[0;36m\u001b[0m\n\u001b[0;31m    exec(tfp_code,exec_dict)\u001b[0m\n",
      "\u001b[0;36m  File \u001b[0;32m\"<string>\"\u001b[0;36m, line \u001b[0;32m2\u001b[0m\n\u001b[0;31m    data {\u001b[0m\n\u001b[0m         ^\u001b[0m\n\u001b[0;31mSyntaxError\u001b[0m\u001b[0;31m:\u001b[0m invalid syntax\n"
     ]
    }
   ],
   "source": [
    "\n",
    "model = stan2tfp.get_model_from_path(stan_code, data_dict)"
   ]
  },
  {
   "cell_type": "code",
   "execution_count": null,
   "metadata": {},
   "outputs": [],
   "source": []
  }
 ],
 "metadata": {
  "kernelspec": {
   "display_name": "Python 3",
   "language": "python",
   "name": "python3"
  },
  "language_info": {
   "codemirror_mode": {
    "name": "ipython",
    "version": 3
   },
   "file_extension": ".py",
   "mimetype": "text/x-python",
   "name": "python",
   "nbconvert_exporter": "python",
   "pygments_lexer": "ipython3",
   "version": "3.6.7"
  }
 },
 "nbformat": 4,
 "nbformat_minor": 2
}
